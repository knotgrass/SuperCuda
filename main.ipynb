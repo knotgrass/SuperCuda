{
 "cells": [
  {
   "cell_type": "code",
   "execution_count": 2,
   "metadata": {},
   "outputs": [
    {
     "name": "stdout",
     "output_type": "stream",
     "text": [
      "Source files will be saved in \"/tmp/tmpajpn_23y\".\n"
     ]
    }
   ],
   "source": [
    "%load_ext nvcc4jupyter"
   ]
  },
  {
   "cell_type": "code",
   "execution_count": 3,
   "metadata": {},
   "outputs": [
    {
     "name": "stdout",
     "output_type": "stream",
     "text": [
      "Number of CUDA devices: 1\n",
      "\n",
      "Device 0: NVIDIA GeForce GTX 1650\n",
      "Number of SMs: 14\n",
      "Number of SP per SM: 64\n",
      "Max Threads per Block: 1024\n",
      "Total registers: 2097152\n",
      "Total shared memory: 49152 bytes\n",
      "Total global memory: 4093509632 bytes\n",
      "Total constant memory: 65536 bytes\n",
      "Global memory bandwidth (GB/s): 192.032000\n",
      "\n"
     ]
    }
   ],
   "source": [
    "%%cuda\n",
    "#include \"cuda_runtime.h\"\n",
    "#include \"device_launch_parameters.h\"\n",
    "#include <stdio.h>\n",
    "\n",
    "\n",
    "int _ConvertSMVer2Cores(int major, int minor) {\n",
    "    // Returns the number of streaming processors (CUDA cores) per SM for a given compute capability version\n",
    "    switch ((major << 4) + minor) {\n",
    "    case 0x10:\n",
    "        return 8;\n",
    "    case 0x11:\n",
    "    case 0x12:\n",
    "        return 8;\n",
    "    case 0x13:\n",
    "        return 8;\n",
    "    case 0x20:\n",
    "        return 32;\n",
    "    case 0x21:\n",
    "    case 0x30:\n",
    "        return 192;\n",
    "    case 0x35:\n",
    "    case 0x37:\n",
    "        return 192;\n",
    "    case 0x50:\n",
    "        return 128;\n",
    "    case 0x52:\n",
    "    case 0x53:\n",
    "        return 128;\n",
    "    case 0x60:\n",
    "        return 64;\n",
    "    case 0x61:\n",
    "    case 0x62:\n",
    "        return 128;\n",
    "    case 0x70:\n",
    "    case 0x72:\n",
    "    case 0x75:\n",
    "        return 64;\n",
    "    case 0x80:\n",
    "    case 0x86:\n",
    "        return 64;\n",
    "    default:\n",
    "        printf(\"Unknown device type\\n\");\n",
    "        return -1;\n",
    "    }\n",
    "}\n",
    "\n",
    "\n",
    "//get cuda card properties\n",
    "cudaError_t cardProperties()\n",
    "{\n",
    "    cudaError_t cudaStatus = cudaSuccess;\n",
    "    int deviceCount;\n",
    "    cudaGetDeviceCount(&deviceCount);\n",
    "\n",
    "    printf(\"Number of CUDA devices: %d\\n\", deviceCount);\n",
    "\n",
    "    for (int dev = 0; dev < deviceCount; dev++) {\n",
    "\n",
    "        cudaDeviceProp deviceProp;\n",
    "        cudaGetDeviceProperties(&deviceProp, dev);\n",
    "\n",
    "        printf(\"\\nDevice %d: %s\\n\", dev, deviceProp.name);\n",
    "        printf(\"Number of SMs: %d\\n\", deviceProp.multiProcessorCount);\n",
    "        printf(\"Number of SP per SM: %d\\n\", _ConvertSMVer2Cores(deviceProp.major, deviceProp.minor));\n",
    "        printf(\"Max Threads per Block: %d\\n\", deviceProp.maxThreadsPerBlock);\n",
    "        printf(\"Total registers: %d\\n\", deviceProp.regsPerBlock * deviceProp.warpSize);\n",
    "        printf(\"Total shared memory: %ld bytes\\n\", deviceProp.sharedMemPerBlock);\n",
    "        printf(\"Total global memory: %lu bytes\\n\", deviceProp.totalGlobalMem);\n",
    "        printf(\"Total constant memory: %ld bytes\\n\", deviceProp.totalConstMem);\n",
    "        printf(\"Global memory bandwidth (GB/s): %f\\n\", 2.0 * deviceProp.memoryClockRate * (deviceProp.memoryBusWidth / 8) / 1.0e6);\n",
    "    }\n",
    "    return cudaStatus;\n",
    "}\n",
    "\n",
    "\n",
    "int main(int argc, char** argv){\n",
    "    cudaError_t cudaStatus = cardProperties();\n",
    "\n",
    "    if (cudaStatus != cudaSuccess) {\n",
    "        fprintf(stderr, \"addWithCuda failed!\");\n",
    "        return 1;\n",
    "    }\n",
    "\n",
    "    // cudaDeviceReset must be called before exiting in order for profiling and\n",
    "    // tracing tools such as Nsight and Visual Profiler to show complete traces.\n",
    "    cudaStatus = cudaDeviceReset();\n",
    "    if (cudaStatus != cudaSuccess) {\n",
    "        fprintf(stderr, \"cudaDeviceReset failed!\");\n",
    "        return 1;\n",
    "    }\n",
    "\n",
    "    return 0;\n",
    "}\n"
   ]
  },
  {
   "cell_type": "code",
   "execution_count": null,
   "metadata": {},
   "outputs": [],
   "source": []
  }
 ],
 "metadata": {
  "kernelspec": {
   "display_name": "cxx",
   "language": "python",
   "name": "python3"
  },
  "language_info": {
   "codemirror_mode": {
    "name": "ipython",
    "version": 3
   },
   "file_extension": ".py",
   "mimetype": "text/x-python",
   "name": "python",
   "nbconvert_exporter": "python",
   "pygments_lexer": "ipython3",
   "version": "3.11.9"
  },
  "orig_nbformat": 4
 },
 "nbformat": 4,
 "nbformat_minor": 2
}
